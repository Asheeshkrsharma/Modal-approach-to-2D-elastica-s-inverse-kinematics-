{
 "cells": [
  {
   "cell_type": "code",
   "execution_count": 1,
   "metadata": {},
   "outputs": [],
   "source": [
    "import numpy\n",
    "from scipy.special import j0\n",
    "import matplotlib.pyplot as plt\n",
    "from scipy.interpolate import interp1d\n",
    "import scipy.integrate as integrate"
   ]
  },
  {
   "cell_type": "code",
   "execution_count": 2,
   "metadata": {
    "scrolled": false
   },
   "outputs": [
    {
     "name": "stdout",
     "output_type": "stream",
     "text": [
      "101 0.3433 0.2733\n"
     ]
    },
    {
     "data": {
      "text/plain": [
       "[<matplotlib.lines.Line2D at 0x7f0bbc697e80>]"
      ]
     },
     "execution_count": 2,
     "metadata": {},
     "output_type": "execute_result"
    },
    {
     "data": {
      "image/png": "[encoded data removed]",
      "text/plain": [
       "<Figure size 432x288 with 1 Axes>"
      ]
     },
     "metadata": {},
     "output_type": "display_data"
    }
   ],
   "source": [
    "from scipy.integrate import quad\n",
    "\n",
    "\n",
    "def simps(f, a, b, N=50):\n",
    "    #     Simpson's rule approximates the integral \\int_a^b f(x) dx by the sum:\n",
    "    #     (dx/3) \\sum_{k=1}^{N/2} (f(x_{2i-2} + 4f(x_{2i-1}) + f(x_{2i}))\n",
    "    #     where x_i = a + i*dx and dx = (b - a)/N.\n",
    "    if N % 2 == 1:\n",
    "        raise ValueError(\"N must be an even integer.\")\n",
    "    dx = (b - a) / N\n",
    "    x = numpy.linspace(a, b, N + 1)\n",
    "    y = f(x)\n",
    "    S = dx / 3 * numpy.sum(y[0:-1:2] + 4 * y[1::2] + y[2::2])\n",
    "    return S\n",
    "\n",
    "\n",
    "# The bessel function formulation\n",
    "PI = numpy.pi\n",
    "Sin = numpy.sin\n",
    "Cos = numpy.cos\n",
    "Sqrt = numpy.sqrt\n",
    "Power = numpy.power\n",
    "Argmin = numpy.argmin\n",
    "Round = numpy.round\n",
    "Arange = numpy.arange\n",
    "\n",
    "S = 1\n",
    "L = 1\n",
    "numPoints = 100\n",
    "\n",
    "# the input coordinates\n",
    "xee, yee = 0.3433, 0.2733\n",
    "# xee, yee = -0.2933, 0.6133\n",
    "# xee, yee = 0.35, 0.24\n",
    "# xee, yee = -0.3, 0.6\n",
    "# xee, yee = 0.4, 0.5\n",
    "\n",
    "\n",
    "# a₂ = Arctan2(xₑₑ, yₑₑ) equation 16\n",
    "a2 = numpy.arctan2(xee, yee)\n",
    "\n",
    "# Calculating the inverse bessel function\n",
    "# xₑₑ = sin(a₂(t)) J₀[√(a₁²(t) +a₂²(t))]\n",
    "# or J₀[√(a₁²(t) + a₂²(t))] = xₑₑ / sin(a₂(t))\n",
    "# or J₀⁻¹ (xₑₑ / sin(a₂)) = J₀⁻¹ (J₀[√(a₁²(t) + a₂²(t))])\n",
    "\n",
    "# It can be shown that J₀⁻¹J₀(x) = 1, for 0<x<μ where μ\n",
    "# is the first local minima.\n",
    "# ⟹ a₁ = √(J₀⁻¹(xₑₑ / sin(a₂))² - a₂²(t)) ... eq(1)\n",
    "# let μₙ = [0 ... μ] be an equidistant list in range (0, μ)\n",
    "# let x = xₑₑ / sin(a₂), xₐₘᵢₙ = argmin(abs(x - J₀(μₙ)))\n",
    "# Then J₀⁻¹(xₑₑ / sin(a₂) can re-written as the value of\n",
    "# μₙ at xₐₘᵢₙ\n",
    "μₙ = Arange(0, 3.832, 0.001)\n",
    "xₐₘᵢₙ = Argmin(abs(xee / Sin(a2) - j0(μₙ)))\n",
    "# then a₁ = √(μₙ[xₐₘᵢₙ])² - a₂²(t))\n",
    "a1 = Sqrt(Power(μₙ[xₐₘᵢₙ], 2) - Power(a2, 2))\n",
    "\n",
    "# ϕ(s) = a₁ sin(2πs) + a₂(1 - cos(2πs)) (equation 14)\n",
    "phiS = lambda s: a1 * Sin(2 * PI * s) + a2 * (1 - Cos(2 * PI * s))\n",
    "\n",
    "#  equation 8\n",
    "X1sj = lambda b: simps(lambda s: L * Sin(phiS(s)), 0, b)\n",
    "X2sj = lambda b: simps(lambda s: L * Cos(phiS(s)), 0, b)\n",
    "\n",
    "step = S / numPoints\n",
    "sj = numpy.arange(0, S + step, step)\n",
    "\n",
    "# Coordinates\n",
    "x1 = [Round(X1sj(s), 4) for s in sj]\n",
    "x2 = [Round(X2sj(s), 4) for s in sj]\n",
    "\n",
    "print(len(x1), x1[-1], x2[-1])\n",
    "plt.plot(x1, x2)"
   ]
  },
  {
   "cell_type": "code",
   "execution_count": null,
   "metadata": {},
   "outputs": [],
   "source": [
    "a = numpy.asarray([ 0.0, 0.048282154, 0.14964627, 0.2271721, 0.2923214, 0.38680357, 0.47262728, 0.47387636, 0.41286126, 0.3529092 ])\n",
    "b = numpy.asarray([ 0.0, 0.08865001, 0.091988824, 0.02201369, -0.06087117, -0.10153929, -0.04891829, 0.053211924, 0.13874893, 0.22494857 ])\n",
    "a += 200\n",
    "b += 200\n",
    "print(a[-1], b[-1])\n",
    "plt.plot(a, b)\n",
    "# plt.plot(x1, x2)"
   ]
  }
 ],
 "metadata": {
  "kernelspec": {
   "display_name": "Python 3",
   "language": "python",
   "name": "python3"
  },
  "language_info": {
   "codemirror_mode": {
    "name": "ipython",
    "version": 3
   },
   "file_extension": ".py",
   "mimetype": "text/x-python",
   "name": "python",
   "nbconvert_exporter": "python",
   "pygments_lexer": "ipython3",
   "version": "3.6.9"
  }
 },
 "nbformat": 4,
 "nbformat_minor": 4
}
